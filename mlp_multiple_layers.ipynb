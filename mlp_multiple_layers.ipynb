{
 "cells": [
  {
   "cell_type": "code",
   "execution_count": 1,
   "metadata": {},
   "outputs": [],
   "source": [
    "import torch \n",
    "import torch.nn.functional as F \n",
    "import matplotlib.pyplot as plt \n",
    "%matplotlib inline "
   ]
  },
  {
   "cell_type": "code",
   "execution_count": 2,
   "metadata": {},
   "outputs": [
    {
     "data": {
      "text/plain": [
       "['emma', 'olivia', 'ava', 'isabella', 'sophia', 'charlotte', 'mia', 'amelia']"
      ]
     },
     "execution_count": 2,
     "metadata": {},
     "output_type": "execute_result"
    }
   ],
   "source": [
    "# read in all the words \n",
    "words = open('names.txt', 'r').read().splitlines()\n",
    "words[:8]"
   ]
  },
  {
   "cell_type": "code",
   "execution_count": 3,
   "metadata": {},
   "outputs": [
    {
     "data": {
      "text/plain": [
       "32033"
      ]
     },
     "execution_count": 3,
     "metadata": {},
     "output_type": "execute_result"
    }
   ],
   "source": [
    "len(words)"
   ]
  },
  {
   "cell_type": "code",
   "execution_count": 4,
   "metadata": {},
   "outputs": [
    {
     "name": "stdout",
     "output_type": "stream",
     "text": [
      "{1: 'a', 2: 'b', 3: 'c', 4: 'd', 5: 'e', 6: 'f', 7: 'g', 8: 'h', 9: 'i', 10: 'j', 11: 'k', 12: 'l', 13: 'm', 14: 'n', 15: 'o', 16: 'p', 17: 'q', 18: 'r', 19: 's', 20: 't', 21: 'u', 22: 'v', 23: 'w', 24: 'x', 25: 'y', 26: 'z', 0: '.'}\n",
      "27\n"
     ]
    }
   ],
   "source": [
    "# build the vocabulary of characters and mappings to/from integers \n",
    "chars = sorted(list(set(''.join(words))))\n",
    "stoi = {s:i+1 for i,s in enumerate(chars)}\n",
    "stoi['.'] = 0 \n",
    "itos = {i:s for s,i in stoi.items()}\n",
    "vocab_size = len(itos)\n",
    "print(itos)\n",
    "print(vocab_size)"
   ]
  },
  {
   "cell_type": "code",
   "execution_count": 5,
   "metadata": {},
   "outputs": [],
   "source": [
    "# build the dataset \n",
    "block_size = 3 # context length: how many characters do we take to predict the next one? \n",
    "\n",
    "def build_dataset(words):\n",
    "    X, Y = [], [] \n",
    "    \n",
    "    for w in words:\n",
    "        context = [0] * block_size \n",
    "        for ch in w + '.':\n",
    "            ix = stoi[ch]\n",
    "            X.append(context)\n",
    "            Y.append(ix)\n",
    "            context = context[1:] + [ix] # crop and append \n",
    "            \n",
    "    X = torch.tensor(X)\n",
    "    Y = torch.tensor(Y)\n",
    "    print(X.shape, Y.shape)\n",
    "    return X, Y "
   ]
  },
  {
   "cell_type": "code",
   "execution_count": 6,
   "metadata": {},
   "outputs": [
    {
     "name": "stdout",
     "output_type": "stream",
     "text": [
      "torch.Size([182625, 3]) torch.Size([182625])\n",
      "torch.Size([22655, 3]) torch.Size([22655])\n",
      "torch.Size([22866, 3]) torch.Size([22866])\n"
     ]
    }
   ],
   "source": [
    "import random \n",
    "random.seed(42)\n",
    "random.shuffle(words)\n",
    "n1 = int(0.8*len(words))\n",
    "n2 = int(0.9*len(words))\n",
    "\n",
    "Xtr, Ytr = build_dataset(words[:n1])        # 80% \n",
    "Xdev, Ydev = build_dataset(words[n1:n2])    # 10% \n",
    "Xte, Yte = build_dataset(words[n2:])        # 10% "
   ]
  },
  {
   "cell_type": "code",
   "execution_count": 7,
   "metadata": {},
   "outputs": [
    {
     "name": "stdout",
     "output_type": "stream",
     "text": [
      "12097\n"
     ]
    }
   ],
   "source": [
    "# MLP revisited \n",
    "n_embd = 10 # the dimensionality of the character embedding vectors \n",
    "n_hidden = 200 # the number of neurons in the hidden layer of the MLP \n",
    "\n",
    "g = torch.Generator().manual_seed(2147483647) # for reproducibility \n",
    "C = torch.randn((vocab_size, n_embd),             generator=g)\n",
    "W1 = torch.randn((n_embd * block_size, n_hidden), generator=g) * (5/3)/((n_embd * block_size)**0.5) #* 0.2\n",
    "# b1 = torch.randn(n_hidden, generator=g) * 0.01 \n",
    "W2 = torch.randn((n_hidden, vocab_size), generator=g) * 0.01 \n",
    "b2 = torch.randn(vocab_size, generator=g) * 0 \n",
    "\n",
    "# BatchNorm parameters \n",
    "bngain = torch.ones((1, n_hidden))\n",
    "bnbias = torch.zeros((1, n_hidden))\n",
    "bnmean_running = torch.zeros((1, n_hidden))\n",
    "bnstd_running = torch.ones((1, n_hidden))\n",
    "\n",
    "parameters = [C, W1, W2, b2, bngain, bnbias]\n",
    "print(sum(p.nelement() for p in parameters)) # number of parameters in total \n",
    "for p in parameters:\n",
    "    p.requires_grad = True "
   ]
  },
  {
   "cell_type": "code",
   "execution_count": 9,
   "metadata": {},
   "outputs": [
    {
     "name": "stdout",
     "output_type": "stream",
     "text": [
      "      0/ 200000: 3.2879\n",
      "  10000/ 200000: 2.3239\n",
      "  20000/ 200000: 2.0221\n",
      "  30000/ 200000: 2.0298\n",
      "  40000/ 200000: 2.0629\n",
      "  50000/ 200000: 2.8945\n",
      "  60000/ 200000: 2.1050\n",
      "  70000/ 200000: 2.8188\n",
      "  80000/ 200000: 2.5734\n",
      "  90000/ 200000: 2.2486\n",
      " 100000/ 200000: 2.0447\n",
      " 110000/ 200000: 1.8231\n",
      " 120000/ 200000: 1.8341\n",
      " 130000/ 200000: 2.4104\n",
      " 140000/ 200000: 2.4917\n",
      " 150000/ 200000: 2.4235\n",
      " 160000/ 200000: 2.1188\n",
      " 170000/ 200000: 2.1723\n",
      " 180000/ 200000: 2.1491\n",
      " 190000/ 200000: 2.1050\n"
     ]
    }
   ],
   "source": [
    "# same optimization as last time \n",
    "max_steps = 200000 \n",
    "batch_size = 32 \n",
    "lossi = [] \n",
    "\n",
    "for i in range(max_steps):\n",
    "    \n",
    "    # minibatch construct \n",
    "    ix = torch.randint(0, Xtr.shape[0], (batch_size,), generator=g)\n",
    "    Xb, Yb = Xtr[ix], Ytr[ix] # batch X, Y \n",
    "    \n",
    "    # forward pass \n",
    "    emb = C[Xb] # embed the characters into vectors \n",
    "    embcat = emb.view(emb.shape[0], -1) # concatenate the vectors \n",
    "    # Linear layer \n",
    "    hpreact = embcat @ W1 #+ b1 # hidden layer pre-activation \n",
    "    # BatchNorm layer \n",
    "    # --------------------------------------- \n",
    "    bnmeani = hpreact.mean(0, keepdim=True)\n",
    "    bnstdi = hpreact.std(0, keepdim=True)\n",
    "    hpreact = bngain * (hpreact - bnmeani) / bnstdi + bnbias \n",
    "    with torch.no_grad():\n",
    "        bnmean_running = 0.999 * bnmean_running + 0.001 * bnmeani \n",
    "        bnstd_running = 0.999 * bnstd_running + 0.001 * bnstdi \n",
    "        \n",
    "    # ----------------------------------------------------------\n",
    "    # Non-linearity \n",
    "    h = torch.tanh(hpreact) # hidden layer \n",
    "    logits = h @ W2 + b2 # output layer \n",
    "    loss = F.cross_entropy(logits, Yb) # loss function \n",
    "    \n",
    "    # backward pass \n",
    "    for p in parameters:\n",
    "        p.grad = None \n",
    "    loss.backward() \n",
    "    \n",
    "    # update \n",
    "    lr = 0.1 if i < 100000 else 0.01 # step learning rate decay \n",
    "    for p in parameters:\n",
    "        p.data += -lr * p.grad \n",
    "        \n",
    "    # track stats \n",
    "    if i % 10000 == 0: # print every once in a while \n",
    "        print(f'{i:7d}/{max_steps:7d}: {loss.item():.4f}')\n",
    "    lossi.append(loss.log10().item())"
   ]
  },
  {
   "cell_type": "code",
   "execution_count": 10,
   "metadata": {},
   "outputs": [
    {
     "data": {
      "text/plain": [
       "[<matplotlib.lines.Line2D at 0x14354c220>]"
      ]
     },
     "execution_count": 10,
     "metadata": {},
     "output_type": "execute_result"
    },
    {
     "data": {
      "image/png": "[encoded data removed]",
      "text/plain": [
       "<Figure size 640x480 with 1 Axes>"
      ]
     },
     "metadata": {},
     "output_type": "display_data"
    }
   ],
   "source": [
    "plt.plot(lossi)"
   ]
  },
  {
   "cell_type": "code",
   "execution_count": null,
   "metadata": {},
   "outputs": [],
   "source": [
    "# calibrate the batch norm at the end of training \n",
    "\n",
    "with torch.no_grad():\n",
    "    # pass thye training set through \n",
    "    emb = C[Xtr]  \n",
    "    embcat = emb.view(emb.shape[0], -1)"
   ]
  }
 ],
 "metadata": {
  "kernelspec": {
   "display_name": "base",
   "language": "python",
   "name": "python3"
  },
  "language_info": {
   "codemirror_mode": {
    "name": "ipython",
    "version": 3
   },
   "file_extension": ".py",
   "mimetype": "text/x-python",
   "name": "python",
   "nbconvert_exporter": "python",
   "pygments_lexer": "ipython3",
   "version": "3.10.14"
  }
 },
 "nbformat": 4,
 "nbformat_minor": 2
}
